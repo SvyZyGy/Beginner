{
  "nbformat": 4,
  "nbformat_minor": 0,
  "metadata": {
    "colab": {
      "provenance": [],
      "authorship_tag": "ABX9TyPZnMcPCNPD37Xp/ZZJdGZt",
      "include_colab_link": true
    },
    "kernelspec": {
      "name": "python3",
      "display_name": "Python 3"
    },
    "language_info": {
      "name": "python"
    }
  },
  "cells": [
    {
      "cell_type": "markdown",
      "metadata": {
        "id": "view-in-github",
        "colab_type": "text"
      },
      "source": [
        "<a href=\"https://colab.research.google.com/github/SvyZyGy/Beginner/blob/Resave/ChP0_Variable_Value_Assignment.ipynb\" target=\"_parent\"><img src=\"https://colab.research.google.com/assets/colab-badge.svg\" alt=\"Open In Colab\"/></a>"
      ]
    },
    {
      "cell_type": "markdown",
      "source": [
        "[실행 관련 단축키]\n",
        "\n",
        "- Ctrl + Enter = 해당 셀을 실행하고 커서를 해당 셀에 두는 경우 (결괏값만 보고자 할 때)\n",
        "\n",
        "- Shift + Enter = 해당 셀을 실행하고 커서를 다음 셀로 넘기는 경우 (여러 가지 값을 빠르게 출력할 때)\n",
        "\n",
        "- Alt + Enter = 해당 셀을 실행하고 셀을 삽입한 후 커서를 삽입한 셀로 넘기는 경우 (다음 작업 공간이 없을 때)\n",
        "\n",
        "[셀 삽입/삭제 관련 단축키]\n",
        "\n",
        "- Ctrl + M A = 코드 셀 위에 삽입\n",
        "\n",
        "- Ctrl + M B = 코드 셀 아래 삽입\n",
        "\n",
        "- Ctrl + M D = 셀 지우기\n",
        "\n",
        "- Ctrl + M Y = 코드 셀로 변경\n",
        "\n",
        "- Ctrl + M M = 마크다운 셀로 변경\n",
        "\n",
        "- Ctrl + M Z = 실행 취소"
      ],
      "metadata": {
        "id": "4R3bgHJGxWwN"
      }
    },
    {
      "cell_type": "code",
      "source": [
        "a = 3"
      ],
      "metadata": {
        "id": "7J1AO9VSFTTT"
      },
      "execution_count": 1,
      "outputs": []
    },
    {
      "cell_type": "code",
      "source": [
        "print(a)"
      ],
      "metadata": {
        "colab": {
          "base_uri": "https://localhost:8080/"
        },
        "id": "55k5MXk_HsbR",
        "outputId": "499b61be-330f-42f6-c78b-d716d396bd96"
      },
      "execution_count": 2,
      "outputs": [
        {
          "output_type": "stream",
          "name": "stdout",
          "text": [
            "3\n"
          ]
        }
      ]
    },
    {
      "cell_type": "code",
      "source": [
        "a"
      ],
      "metadata": {
        "colab": {
          "base_uri": "https://localhost:8080/"
        },
        "id": "ExkMbeQqHwxn",
        "outputId": "9fcd88b4-b3a9-4729-b9a7-0a79547514be"
      },
      "execution_count": 3,
      "outputs": [
        {
          "output_type": "execute_result",
          "data": {
            "text/plain": [
              "3"
            ]
          },
          "metadata": {},
          "execution_count": 3
        }
      ]
    },
    {
      "cell_type": "code",
      "source": [
        "a = 3\n",
        "b = 2\n",
        "print(a, b)"
      ],
      "metadata": {
        "colab": {
          "base_uri": "https://localhost:8080/"
        },
        "id": "ITAxZ4-PHyWj",
        "outputId": "2ab6855e-dc4e-4a5f-d1fd-b01c972d49d4"
      },
      "execution_count": 4,
      "outputs": [
        {
          "output_type": "stream",
          "name": "stdout",
          "text": [
            "3 2\n"
          ]
        }
      ]
    },
    {
      "cell_type": "code",
      "source": [
        "type(a)"
      ],
      "metadata": {
        "colab": {
          "base_uri": "https://localhost:8080/"
        },
        "id": "zbYUBzcgIE2v",
        "outputId": "8d577fd2-8a31-46b0-eb9f-6788b2443c54"
      },
      "execution_count": 5,
      "outputs": [
        {
          "output_type": "execute_result",
          "data": {
            "text/plain": [
              "int"
            ]
          },
          "metadata": {},
          "execution_count": 5
        }
      ]
    },
    {
      "cell_type": "code",
      "source": [
        "my_score = 99.5\n",
        "ab123 = 'hello'\n",
        "my_collection = [1, 2, 3]\n",
        "\n",
        "print(type(my_score), type(ab123), type(my_collection))"
      ],
      "metadata": {
        "colab": {
          "base_uri": "https://localhost:8080/"
        },
        "id": "HTnJsDm4IHbh",
        "outputId": "4bf86ec4-50bc-41c5-e512-aabc540f50d2"
      },
      "execution_count": 6,
      "outputs": [
        {
          "output_type": "stream",
          "name": "stdout",
          "text": [
            "<class 'float'> <class 'str'> <class 'list'>\n"
          ]
        }
      ]
    },
    {
      "cell_type": "code",
      "source": [
        "print = 1\n",
        "print(3) # print out 3, but it fails"
      ],
      "metadata": {
        "colab": {
          "base_uri": "https://localhost:8080/",
          "height": 204
        },
        "id": "FnGcvJLZIZzA",
        "outputId": "b00b6692-5e90-4a8c-e607-7e46a5bbb0e9"
      },
      "execution_count": 7,
      "outputs": [
        {
          "output_type": "error",
          "ename": "TypeError",
          "evalue": "'int' object is not callable",
          "traceback": [
            "\u001b[0;31m---------------------------------------------------------------------------\u001b[0m",
            "\u001b[0;31mTypeError\u001b[0m                                 Traceback (most recent call last)",
            "\u001b[0;32m<ipython-input-7-0d90052c27a7>\u001b[0m in \u001b[0;36m<cell line: 2>\u001b[0;34m()\u001b[0m\n\u001b[1;32m      1\u001b[0m \u001b[0mprint\u001b[0m \u001b[0;34m=\u001b[0m \u001b[0;36m1\u001b[0m\u001b[0;34m\u001b[0m\u001b[0;34m\u001b[0m\u001b[0m\n\u001b[0;32m----> 2\u001b[0;31m \u001b[0mprint\u001b[0m\u001b[0;34m(\u001b[0m\u001b[0;36m3\u001b[0m\u001b[0;34m)\u001b[0m \u001b[0;31m# print out 3, but it fails\u001b[0m\u001b[0;34m\u001b[0m\u001b[0;34m\u001b[0m\u001b[0m\n\u001b[0m",
            "\u001b[0;31mTypeError\u001b[0m: 'int' object is not callable"
          ]
        }
      ]
    },
    {
      "cell_type": "code",
      "source": [
        "del print # delete the \"print\" variable\n",
        "import builtins # re-import built-in functions.\n",
        "print(3)"
      ],
      "metadata": {
        "colab": {
          "base_uri": "https://localhost:8080/"
        },
        "id": "BsJlWyPwJqj3",
        "outputId": "6842b3b7-24e5-483a-8473-c280bfe45b51"
      },
      "execution_count": 8,
      "outputs": [
        {
          "output_type": "stream",
          "name": "stdout",
          "text": [
            "3\n"
          ]
        }
      ]
    }
  ]
}