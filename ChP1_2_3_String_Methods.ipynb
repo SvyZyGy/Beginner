{
  "nbformat": 4,
  "nbformat_minor": 0,
  "metadata": {
    "colab": {
      "provenance": [],
      "authorship_tag": "ABX9TyN1Q2aBBT4udbjAl9isOGPT",
      "include_colab_link": true
    },
    "kernelspec": {
      "name": "python3",
      "display_name": "Python 3"
    },
    "language_info": {
      "name": "python"
    }
  },
  "cells": [
    {
      "cell_type": "markdown",
      "metadata": {
        "id": "view-in-github",
        "colab_type": "text"
      },
      "source": [
        "<a href=\"https://colab.research.google.com/github/SvyZyGy/Beginner/blob/Beginner_v2/ChP1_2_3_String_Methods.ipynb\" target=\"_parent\"><img src=\"https://colab.research.google.com/assets/colab-badge.svg\" alt=\"Open In Colab\"/></a>"
      ]
    },
    {
      "cell_type": "code",
      "execution_count": 1,
      "metadata": {
        "colab": {
          "base_uri": "https://localhost:8080/"
        },
        "id": "ZpYrr2tgzI5J",
        "outputId": "255508aa-309b-4e67-d45a-e3f90bbcbe71"
      },
      "outputs": [
        {
          "output_type": "stream",
          "name": "stdout",
          "text": [
            "capitalize(): Machine learning\n"
          ]
        }
      ],
      "source": [
        "# capitalize: First upper case, the others lower cases\n",
        "x = \"machine LEARNing\"\n",
        "print(\"capitalize():\", x.capitalize())"
      ]
    },
    {
      "cell_type": "code",
      "source": [
        "# casefold: All lower cases\n",
        "x = \"machine LEARNing\"\n",
        "print(\"casefold():\", x.casefold())"
      ],
      "metadata": {
        "colab": {
          "base_uri": "https://localhost:8080/"
        },
        "id": "fFqA0yyTz3kT",
        "outputId": "c92b283e-4e61-4b25-b78d-5415a03db3df"
      },
      "execution_count": 2,
      "outputs": [
        {
          "output_type": "stream",
          "name": "stdout",
          "text": [
            "casefold(): machine learning\n"
          ]
        }
      ]
    },
    {
      "cell_type": "code",
      "source": [
        "# center: center string of length width\n",
        "x = \"machine LEARNing\"\n",
        "print(\"center():\", x.center(50)) # a total width\n",
        "print(\"center():\", x.center(50, '*')) # padding width *"
      ],
      "metadata": {
        "colab": {
          "base_uri": "https://localhost:8080/"
        },
        "id": "ZM5rLx6G0NA_",
        "outputId": "3b32b996-36af-4122-978d-33a246acbfa6"
      },
      "execution_count": 3,
      "outputs": [
        {
          "output_type": "stream",
          "name": "stdout",
          "text": [
            "center():                  machine LEARNing                 \n",
            "center(): *****************machine LEARNing*****************\n"
          ]
        }
      ]
    },
    {
      "cell_type": "code",
      "source": [
        "# count: count a specific character\n",
        "x = \"machine LEARNing\"\n",
        "print(\"count():\", x.count('i'))"
      ],
      "metadata": {
        "colab": {
          "base_uri": "https://localhost:8080/"
        },
        "id": "zabZMuUY0jtD",
        "outputId": "bd2ae823-346f-4637-da8c-986a52f001c0"
      },
      "execution_count": 4,
      "outputs": [
        {
          "output_type": "stream",
          "name": "stdout",
          "text": [
            "count(): 2\n"
          ]
        }
      ]
    },
    {
      "cell_type": "code",
      "source": [
        "# encode: encoding\n",
        "x = \"X\"\n",
        "print(\"encode():\", x.encode('ASCII'))\n",
        "print(\"encode():\", x.encode('UTF-8')) # Unicode Transformation Format\n",
        "print(\"encode():\", x.encode('UTF-16'))\n",
        "print(\"encode():\", x.encode('UTF-32'))"
      ],
      "metadata": {
        "colab": {
          "base_uri": "https://localhost:8080/"
        },
        "id": "V6AWDWhL1bOx",
        "outputId": "f177a0cd-3b32-4bb1-ee7a-4c976a9cae94"
      },
      "execution_count": 5,
      "outputs": [
        {
          "output_type": "stream",
          "name": "stdout",
          "text": [
            "encode(): b'X'\n",
            "encode(): b'X'\n",
            "encode(): b'\\xff\\xfeX\\x00'\n",
            "encode(): b'\\xff\\xfe\\x00\\x00X\\x00\\x00\\x00'\n"
          ]
        }
      ]
    },
    {
      "cell_type": "code",
      "source": [
        "# endswith: Does it end with xxx? True or False\n",
        "x = \"machine LEARNing\"\n",
        "print(\"endswith():\", x.endswith('ing'))\n",
        "print(\"endswith():\", x.endswith('ING'))"
      ],
      "metadata": {
        "colab": {
          "base_uri": "https://localhost:8080/"
        },
        "id": "80NYQ1MN2BK0",
        "outputId": "a27aba64-5202-40f6-cdf0-47a41e841966"
      },
      "execution_count": 6,
      "outputs": [
        {
          "output_type": "stream",
          "name": "stdout",
          "text": [
            "endswith(): True\n",
            "endswith(): False\n"
          ]
        }
      ]
    },
    {
      "cell_type": "code",
      "source": [
        "# expandtabs: set up the tab space size\n",
        "# \\t is a tab space (default space size: 8).\n",
        "x = \"Machine\\tLearning\\tStudy\"\n",
        "print(\"             \", x)\n",
        "print(\"expandtabs():\", x.expandtabs(4))"
      ],
      "metadata": {
        "colab": {
          "base_uri": "https://localhost:8080/"
        },
        "id": "8zqNqapk2xA8",
        "outputId": "756ce100-edf1-4cc5-f850-dc01bf51f236"
      },
      "execution_count": 7,
      "outputs": [
        {
          "output_type": "stream",
          "name": "stdout",
          "text": [
            "              Machine\tLearning\tStudy\n",
            "expandtabs(): Machine Learning    Study\n"
          ]
        }
      ]
    },
    {
      "cell_type": "code",
      "source": [
        "# find: return the index of a specific character from the left\n",
        "x = \"Machine Learning STUDY\"\n",
        "print(\"find():\", x.find('e')) # the lowest index (from the left)\n",
        "print(\"find():\", x.find('STUDY'))\n",
        "print(\"find():\", x.find('study')) # No found, it returns -1\n",
        "\n",
        "# rfind: return the index of a specific character from the right\n",
        "x = \"Machine Learning STUDY\"\n",
        "print(\"rfind():\", x.rfind('e')) # the highest index (from the right)\n",
        "print(\"rfind():\", x.rfind('STUDY'))\n",
        "print(\"rfind():\", x.rfind('study')) # No found, it returns -1"
      ],
      "metadata": {
        "colab": {
          "base_uri": "https://localhost:8080/"
        },
        "id": "T92G-oqn3bFa",
        "outputId": "9ff5836d-85c1-40aa-9ac9-65fced577048"
      },
      "execution_count": 8,
      "outputs": [
        {
          "output_type": "stream",
          "name": "stdout",
          "text": [
            "find(): 6\n",
            "find(): 17\n",
            "find(): -1\n",
            "rfind(): 9\n",
            "rfind(): 17\n",
            "rfind(): -1\n"
          ]
        }
      ]
    },
    {
      "cell_type": "code",
      "source": [
        "# index: find the index of a specific character\n",
        "x = \"Machine Learning STUDY\"\n",
        "print(\"index():\", x.index('e')) # the lowest index (from the left)\n",
        "print(\"index():\", x.index('STUDY'))\n",
        "#print(\"index():\", x.index('fun')) # No found, it gives an error\n",
        "\n",
        "# rindex: find the index of a specific character from the right\n",
        "x = \"Machine Learning STUDY\"\n",
        "print(\"rindex():\", x.rindex('e')) # the highest index (from the right)\n",
        "print(\"rindex():\", x.rindex('STUDY'))\n",
        "#print(\"rindex():\", x.rindex('fun')) # No found, it gives an error"
      ],
      "metadata": {
        "colab": {
          "base_uri": "https://localhost:8080/"
        },
        "id": "lq8AMkyr7jMe",
        "outputId": "3f370855-1ca8-476a-9caa-83d91db34b45"
      },
      "execution_count": 9,
      "outputs": [
        {
          "output_type": "stream",
          "name": "stdout",
          "text": [
            "index(): 6\n",
            "index(): 17\n",
            "rindex(): 9\n",
            "rindex(): 17\n"
          ]
        }
      ]
    },
    {
      "cell_type": "code",
      "source": [
        "# format\n",
        "adj = 'easy'\n",
        "print(\"format():\", \"Python is {}\".format(adj))"
      ],
      "metadata": {
        "colab": {
          "base_uri": "https://localhost:8080/"
        },
        "id": "NXMsLW5R9GPI",
        "outputId": "ff4925b9-9588-4d31-dd54-958b517872d4"
      },
      "execution_count": 10,
      "outputs": [
        {
          "output_type": "stream",
          "name": "stdout",
          "text": [
            "format(): Python is easy\n"
          ]
        }
      ]
    },
    {
      "cell_type": "code",
      "source": [
        "# isalnum: return True if all characters are alphanumeric\n",
        "# alphanumeric: alphabets or numeric\n",
        "x = \"Machine Learning STUDY\"\n",
        "print(\"isalnum():\", x.isalnum()) # False because of the space\n",
        "y = \"MachineLearningSTUDY\"\n",
        "print(\"isalnum():\", y.isalnum()) # True"
      ],
      "metadata": {
        "colab": {
          "base_uri": "https://localhost:8080/"
        },
        "id": "MNf47QAY9kzN",
        "outputId": "7999b639-8ef3-49ee-8010-cead760feeb3"
      },
      "execution_count": 11,
      "outputs": [
        {
          "output_type": "stream",
          "name": "stdout",
          "text": [
            "isalnum(): False\n",
            "isalnum(): True\n"
          ]
        }
      ]
    },
    {
      "cell_type": "code",
      "source": [
        "# isascii: return True if all characters are ascii characters\n",
        "# ASCII is a 7-bit character set containing 128 characters.\n",
        "# It contains numbers from 0-9, letters from A to Z and from a to z\n",
        "# and some special characters in a keyboard (!@#$%^&*()+'\";:<>?).\n",
        "x = \"Machine Learning STUDY\"\n",
        "print(\"isascii():\", x.isascii()) # True\n",
        "y = \"머신 러닝 스터디\" # Korean language\n",
        "print(\"isascii():\", y.isascii()) # False"
      ],
      "metadata": {
        "colab": {
          "base_uri": "https://localhost:8080/"
        },
        "id": "rTE-Egd5ARXi",
        "outputId": "7eafe5ea-3a3f-41c1-e473-a935fabe7ee2"
      },
      "execution_count": 12,
      "outputs": [
        {
          "output_type": "stream",
          "name": "stdout",
          "text": [
            "isascii(): True\n",
            "isascii(): False\n"
          ]
        }
      ]
    },
    {
      "cell_type": "code",
      "source": [
        "# decimal vs. digit vs. numeric\n",
        "# decimal: 0 to 9\n",
        "# digit: decimal + superscript number +\n",
        "#        subscript number + circled digit number\n",
        "# numeric: digit + roman number + chinese characters + fraction\n",
        "\n",
        "# isdecimal: return True if all characters in the string are decimals\n",
        "x = \"Machine Learning\"\n",
        "print(\"isdecimal():\", x.isdecimal()) # False\n",
        "y = \"123\"\n",
        "print(\"isdecimal():\", y.isdecimal()) # True\n",
        "\n",
        "# isdigit: return True if all characters in the string are degits\n",
        "x = \"Machine Learning\"\n",
        "print(\"isdigit():\", x.isdigit())\n",
        "\n",
        "# isnumeric: return True if all characters in the string are numeric\n",
        "x = \"Machine Learning\"\n",
        "print(\"isnumeric():\", x.isnumeric())"
      ],
      "metadata": {
        "colab": {
          "base_uri": "https://localhost:8080/"
        },
        "id": "goIcLaGiBnd7",
        "outputId": "a6c69cd0-0ddb-4272-9f75-efe63fb70306"
      },
      "execution_count": 13,
      "outputs": [
        {
          "output_type": "stream",
          "name": "stdout",
          "text": [
            "isdecimal(): False\n",
            "isdecimal(): True\n",
            "isdigit(): False\n",
            "isnumeric(): False\n"
          ]
        }
      ]
    },
    {
      "cell_type": "code",
      "source": [
        "# isidentifier: return True if all characters are identifier\n",
        "# identifier is True with conitions as\n",
        "# 1) A string contains only alphanumeric or underscores(_).\n",
        "# 2) A string does not start with a number.\n",
        "# 3) A string does not contain any spaces.\n",
        "x = \"Machine Learning\"\n",
        "print(\"isidentifier():\", x.isidentifier())\n",
        "y = \"Machine_Learning\"\n",
        "print(\"isidentifier():\", y.isidentifier())"
      ],
      "metadata": {
        "colab": {
          "base_uri": "https://localhost:8080/"
        },
        "id": "FpBToZyUDoCe",
        "outputId": "08769d86-a634-4d20-9a09-02a55ada13cc"
      },
      "execution_count": 14,
      "outputs": [
        {
          "output_type": "stream",
          "name": "stdout",
          "text": [
            "isidentifier(): False\n",
            "isidentifier(): True\n"
          ]
        }
      ]
    },
    {
      "cell_type": "code",
      "source": [
        "# isprintable: return True if all characters are printable\n",
        "x = \"Machine Learning\"\n",
        "print(\"isprintable():\", x.isprintable())\n",
        "y = \"Machine\\tLearning\"\n",
        "print(\"isprintable():\", y.isprintable())"
      ],
      "metadata": {
        "colab": {
          "base_uri": "https://localhost:8080/"
        },
        "id": "mzpnaiN3HY9Z",
        "outputId": "b5ad16ff-2bfd-4f5b-8f31-2f6d58fac4fb"
      },
      "execution_count": 15,
      "outputs": [
        {
          "output_type": "stream",
          "name": "stdout",
          "text": [
            "isprintable(): True\n",
            "isprintable(): False\n"
          ]
        }
      ]
    },
    {
      "cell_type": "code",
      "source": [
        "# isspace: return True if all characters in the string are spaces\n",
        "x = \"Machine Learning\"\n",
        "print(\"isspace():\", x.isspace())\n",
        "y = \"                \"\n",
        "print(\"isspace():\", y.isspace())"
      ],
      "metadata": {
        "colab": {
          "base_uri": "https://localhost:8080/"
        },
        "id": "b2zeWbM0H1QO",
        "outputId": "45c50d70-f845-40f0-c514-c3a883fa912d"
      },
      "execution_count": 16,
      "outputs": [
        {
          "output_type": "stream",
          "name": "stdout",
          "text": [
            "isspace(): False\n",
            "isspace(): True\n"
          ]
        }
      ]
    },
    {
      "cell_type": "code",
      "source": [
        "# istitle: return True if the string follows the rules of a title\n",
        "# The first character of each word is uppercase and others are lowercase.\n",
        "x = \"Machine Learning\"\n",
        "print(\"istitle():\", x.istitle())\n",
        "y = \"Machine learning\"\n",
        "print(\"istitle():\", y.istitle())"
      ],
      "metadata": {
        "colab": {
          "base_uri": "https://localhost:8080/"
        },
        "id": "0xDjihECIR_w",
        "outputId": "80702c1c-2f5c-40c9-98f6-c4ddbde4241a"
      },
      "execution_count": 17,
      "outputs": [
        {
          "output_type": "stream",
          "name": "stdout",
          "text": [
            "istitle(): True\n",
            "istitle(): False\n"
          ]
        }
      ]
    },
    {
      "cell_type": "code",
      "source": [
        "# isupper: return True if all characters in the string are uppercase\n",
        "x = \"Machine Learning\"\n",
        "print(\"isupper():\", x.isupper())\n",
        "y = \"MACHINE LEARNING\"\n",
        "print(\"isupper():\", y.isupper())\n",
        "\n",
        "# islower: return True if all characters in the string are lowercase\n",
        "x = \"Machine Learning\"\n",
        "print(\"islower():\", x.islower())\n",
        "x = \"machine learning\"\n",
        "print(\"islower():\", x.islower())"
      ],
      "metadata": {
        "colab": {
          "base_uri": "https://localhost:8080/"
        },
        "id": "itB-j5nNJBtE",
        "outputId": "fa9d546a-e4fc-4d04-bb2d-ff7b076928d6"
      },
      "execution_count": 18,
      "outputs": [
        {
          "output_type": "stream",
          "name": "stdout",
          "text": [
            "isupper(): False\n",
            "isupper(): True\n",
            "islower(): False\n",
            "islower(): True\n"
          ]
        }
      ]
    },
    {
      "cell_type": "code",
      "source": [
        "# join: convert the elements of an iterable into a string with a separator\n",
        "# An element of a string is each character.\n",
        "# \"separator\".join(string)\n",
        "my_string = \"Machine Learning Study\"\n",
        "print(\"join():\", '*'.join(my_string))\n",
        "print(\"join():\", ' '.join(my_string))\n",
        "\n",
        "# when an iterable is a list: \"separator\".join(list)\n",
        "my_list = [\"Machine\", \"Learning\", \"Study\"]\n",
        "print(\"join():\", '*'.join(my_list))\n",
        "print(\"join():\", ' '.join(my_list))"
      ],
      "metadata": {
        "colab": {
          "base_uri": "https://localhost:8080/"
        },
        "id": "S_myDfFGJ7F5",
        "outputId": "1f7285a3-e387-4c95-db7f-3bdbd83d4124"
      },
      "execution_count": 19,
      "outputs": [
        {
          "output_type": "stream",
          "name": "stdout",
          "text": [
            "join(): M*a*c*h*i*n*e* *L*e*a*r*n*i*n*g* *S*t*u*d*y\n",
            "join(): M a c h i n e   L e a r n i n g   S t u d y\n",
            "join(): Machine*Learning*Study\n",
            "join(): Machine Learning Study\n"
          ]
        }
      ]
    },
    {
      "cell_type": "code",
      "source": [
        "# ljust: return a left justified version of the string\n",
        "# string.ljust(length, character)\n",
        "# It sets the string length, and moves the string to the left.\n",
        "print(\"ljust():\", x.ljust(50, \"*\")) # padding with *\n",
        "print(\"ljust():\", x.ljust(50)) # No padding\n",
        "\n",
        "# rjust: return a right justified version of the string\n",
        "# string.rjust(length, character)\n",
        "# It sets the string length, and moves the string to the right.\n",
        "print(\"rjust():\", x.rjust(50, \"*\")) # padding with *\n",
        "print(\"rjust():\", x.rjust(50)) # No padding"
      ],
      "metadata": {
        "colab": {
          "base_uri": "https://localhost:8080/"
        },
        "id": "iLSdidzWPhCz",
        "outputId": "9ff254fc-713b-453b-c747-bb66282e9452"
      },
      "execution_count": 20,
      "outputs": [
        {
          "output_type": "stream",
          "name": "stdout",
          "text": [
            "ljust(): machine learning**********************************\n",
            "ljust(): machine learning                                  \n",
            "rjust(): **********************************machine learning\n",
            "rjust():                                   machine learning\n"
          ]
        }
      ]
    },
    {
      "cell_type": "code",
      "source": [
        "# lstrip: return stripped (trimmed) string in the left side\n",
        "# string.lstrip(removed characters)\n",
        "x = \"***///Machine Learning STUDY///***\"\n",
        "# * or / will be removed in the left until others appeared.\n",
        "print(\"lstrip():\", x.lstrip(\"*/\"))\n",
        "y = \"***/%/Machine Learning STUDY///***\"\n",
        "print(\"lstrip():\", y.lstrip(\"*/\"))\n",
        "\n",
        "# rstrip: return stripped (trimmed) string in the right side\n",
        "# string.rstrip(removed characters)\n",
        "x = \"***///Machine Learning STUDY///***\"\n",
        "# * or / will be removed in the right until others appeared.\n",
        "print(\"rstrip():\", x.rstrip(\"*/\"))\n",
        "y = \"***///Machine Learning STUDY/%/***\"\n",
        "print(\"rstrip():\", y.rstrip(\"*/\"))\n",
        "\n",
        "# strip: return stripped (trimmed) string in the both sides\n",
        "# string.strip(removed characters)\n",
        "x = \"***///Machine Learning STUDY///***\"\n",
        "# * or / will be removed in both sides until others appeared.\n",
        "print(\"strip():\", x.strip(\"*/\"))\n",
        "y = \"***/%/Machine Learning STUDY/%/***\"\n",
        "print(\"strip():\", y.strip(\"*/\"))"
      ],
      "metadata": {
        "colab": {
          "base_uri": "https://localhost:8080/"
        },
        "id": "myXwLbL0R30M",
        "outputId": "535c8959-9c5e-45e2-e298-2ec14632261d"
      },
      "execution_count": 21,
      "outputs": [
        {
          "output_type": "stream",
          "name": "stdout",
          "text": [
            "lstrip(): Machine Learning STUDY///***\n",
            "lstrip(): %/Machine Learning STUDY///***\n",
            "rstrip(): ***///Machine Learning STUDY\n",
            "rstrip(): ***///Machine Learning STUDY/%\n",
            "strip(): Machine Learning STUDY\n",
            "strip(): %/Machine Learning STUDY/%\n"
          ]
        }
      ]
    },
    {
      "cell_type": "code",
      "source": [
        "# maketrans: return a translation table to be used in translations\n",
        "# string.maketrans(\"original\", \"changed\", \"removed\")\n",
        "# translate: return a translated string\n",
        "#            based on the table from maketrans()\n",
        "x = \"!!!Machine learning study!!!\"\n",
        "my_table = x.maketrans(\"ils\", \"ILS\", \"!\")\n",
        "\n",
        "# \"i\" changes to \"I\", \"l\" changes to \"L\",\n",
        "# \"s\" changes to \"S\", \"!\" is removed.\n",
        "print(\"maketrans():\", my_table)\n",
        "\n",
        "# With the unicode, 105 (\"i\") changes to 73 (\"I\"),\n",
        "# 108 (\"l\") changes to 76 (\"L\"), 115 (\"s\") changes to 83 (\"S\"),\n",
        "# and 33 (\"!\") changes to \"None\" (removed).\n",
        "print(\"translate():\", x.translate(my_table))"
      ],
      "metadata": {
        "colab": {
          "base_uri": "https://localhost:8080/"
        },
        "id": "1qz0uSsQT9zG",
        "outputId": "375e4859-2c94-4694-efb1-64504d39a8a7"
      },
      "execution_count": 22,
      "outputs": [
        {
          "output_type": "stream",
          "name": "stdout",
          "text": [
            "maketrans(): {105: 73, 108: 76, 115: 83, 33: None}\n",
            "translate(): MachIne LearnIng Study\n"
          ]
        }
      ]
    },
    {
      "cell_type": "code",
      "source": [
        "# partition: return a tuple where the string is parted into three parts\n",
        "# string.partition(\"separating string\")\n",
        "x = \"Machine learning & Deep learning\"\n",
        "print(\"partition(): \", x.partition(\"&\"))\n",
        "\n",
        "# If the separating string appears multiple times,\n",
        "# the leftmost one is a separator\n",
        "y = \"Machine/learning Deep/learning\"\n",
        "print(\"partition(): \", y.partition(\"/\"))"
      ],
      "metadata": {
        "id": "W4x0JtEj-FVI",
        "colab": {
          "base_uri": "https://localhost:8080/"
        },
        "outputId": "130e1aed-7e6d-44b2-8f10-8cd2ea06dad3"
      },
      "execution_count": 23,
      "outputs": [
        {
          "output_type": "stream",
          "name": "stdout",
          "text": [
            "partition():  ('Machine learning ', '&', ' Deep learning')\n",
            "partition():  ('Machine', '/', 'learning Deep/learning')\n"
          ]
        }
      ]
    },
    {
      "cell_type": "code",
      "source": [
        "# rpartition: return a tuple where the string is parted into three parts\n",
        "# string.rpartition(\"separating string\")\n",
        "x = \"Machine learning & Deep learning\"\n",
        "print(\"rpartition(): \", x.rpartition(\"&\"))\n",
        "\n",
        "# If the separating string appears multiple times,\n",
        "# the rightmost one is a separator\n",
        "y = \"Machine/learning Deep/learning\"\n",
        "print(\"rpartition(): \", y.rpartition(\"/\"))"
      ],
      "metadata": {
        "id": "wwWm5C97fQvf",
        "colab": {
          "base_uri": "https://localhost:8080/"
        },
        "outputId": "23880de3-1207-4e02-dac9-0bbeac0e59bb"
      },
      "execution_count": 24,
      "outputs": [
        {
          "output_type": "stream",
          "name": "stdout",
          "text": [
            "rpartition():  ('Machine learning ', '&', ' Deep learning')\n",
            "rpartition():  ('Machine/learning Deep', '/', 'learning')\n"
          ]
        }
      ]
    },
    {
      "cell_type": "code",
      "source": [
        "# replace: return a string where a specified character is replaced\n",
        "# string.replace(\"original\", \"changed\", count), count is optional\n",
        "# count is the number of string to be replaced from the left\n",
        "# (default: all occurrences)\n",
        "x = \"Machine learning & Deep learning\"\n",
        "print(\"replace(): \", x.replace(\"i\", \"!\")) # all \"i\" changes to \"!\"\n",
        "print(\"replace(): \", x.replace(\"i\", \"!\", 1))\n",
        "print(\"replace(): \", x.replace(\"i\", \"!\", 2))"
      ],
      "metadata": {
        "colab": {
          "base_uri": "https://localhost:8080/"
        },
        "id": "bqN7z6jQ6pa-",
        "outputId": "68517a9d-a4b1-4be3-e345-4f31cb9a0caf"
      },
      "execution_count": 25,
      "outputs": [
        {
          "output_type": "stream",
          "name": "stdout",
          "text": [
            "replace():  Mach!ne learn!ng & Deep learn!ng\n",
            "replace():  Mach!ne learning & Deep learning\n",
            "replace():  Mach!ne learn!ng & Deep learning\n"
          ]
        }
      ]
    },
    {
      "cell_type": "code",
      "source": [
        "# split: split the string at the specified separator from the left\n",
        "# and returns a list\n",
        "# list = string.split(separated string, the maximum number of split)\n",
        "# if the separated string appears multiple times,\n",
        "# the string separated from the left\n",
        "x = \"Machine learning & Deep learning\"\n",
        "print(\"split(): \", x.split(\"&\", 1))\n",
        "y = \"Machine/learning Deep/learning\"\n",
        "print(\"split(): \", y.split(\"/\", 1))\n",
        "# The default of the maximum number of splits is all occurrences.\n",
        "print(\"split(): \", y.split(\"/\"))"
      ],
      "metadata": {
        "colab": {
          "base_uri": "https://localhost:8080/"
        },
        "id": "OaIaPLFM9FBt",
        "outputId": "6ab5abde-d849-4958-a584-cc9d23ea1cf3"
      },
      "execution_count": 26,
      "outputs": [
        {
          "output_type": "stream",
          "name": "stdout",
          "text": [
            "split():  ['Machine learning ', ' Deep learning']\n",
            "split():  ['Machine', 'learning Deep/learning']\n",
            "split():  ['Machine', 'learning Deep', 'learning']\n"
          ]
        }
      ]
    },
    {
      "cell_type": "code",
      "source": [
        "# rsplit: split the string at the specified separator from the right\n",
        "# and returns a list\n",
        "# list = string.split(separated string, the maximum number of split)\n",
        "# if the separated string appears multiple times,\n",
        "# the string separated from the right\n",
        "x = \"Machine learning & Deep learning\"\n",
        "print(\"rsplit(): \", x.rsplit(\"&\", 1))\n",
        "y = \"Machine/learning Deep/learning\"\n",
        "print(\"rsplit(): \", y.rsplit(\"/\", 1))\n",
        "# The default of the maximum number of splits is all occurrences.\n",
        "print(\"rsplit(): \", y.rsplit(\"/\"))"
      ],
      "metadata": {
        "colab": {
          "base_uri": "https://localhost:8080/"
        },
        "id": "qSR3muCv_NH6",
        "outputId": "2451afaa-2826-4557-b1f0-9ed2acecd251"
      },
      "execution_count": 27,
      "outputs": [
        {
          "output_type": "stream",
          "name": "stdout",
          "text": [
            "rsplit():  ['Machine learning ', ' Deep learning']\n",
            "rsplit():  ['Machine/learning Deep', 'learning']\n",
            "rsplit():  ['Machine', 'learning Deep', 'learning']\n"
          ]
        }
      ]
    },
    {
      "cell_type": "code",
      "source": [
        "# splitlines: split a string into a list, where each line is a list item\n",
        "x = \"Machine learning\\nDeep learning\\nData science\"\n",
        "print(\"A string is with 3 lines below\")\n",
        "print(x)\n",
        "print(\"splitlines(): \", x.splitlines()) # each line is an element"
      ],
      "metadata": {
        "colab": {
          "base_uri": "https://localhost:8080/"
        },
        "id": "RqJfviynAhlZ",
        "outputId": "51d7eb27-07d1-42c6-9111-de0377035538"
      },
      "execution_count": 28,
      "outputs": [
        {
          "output_type": "stream",
          "name": "stdout",
          "text": [
            "A string is with 3 lines below\n",
            "Machine learning\n",
            "Deep learning\n",
            "Data science\n",
            "splitlines():  ['Machine learning', 'Deep learning', 'Data science']\n"
          ]
        }
      ]
    },
    {
      "cell_type": "code",
      "source": [
        "# startswith: return true if the string starts with the specified value\n",
        "x = \"Machine learning & Deep learning\"\n",
        "print(\"startswith(): \", x.startswith(\"Machine\"))\n",
        "print(\"startswith(): \", x.startswith(\"M\"))\n",
        "print(\"startswith(): \", x.startswith(\"m\"))"
      ],
      "metadata": {
        "colab": {
          "base_uri": "https://localhost:8080/"
        },
        "id": "g2aM64VaBfXd",
        "outputId": "f8ab7745-9c82-4b35-f7e0-12283a88ac9e"
      },
      "execution_count": 29,
      "outputs": [
        {
          "output_type": "stream",
          "name": "stdout",
          "text": [
            "startswith():  True\n",
            "startswith():  True\n",
            "startswith():  False\n"
          ]
        }
      ]
    },
    {
      "cell_type": "code",
      "source": [
        "# swapcase: swap cases\n",
        "# lowercase to uppercase, and uppercase to lowercase\n",
        "x = \"Machine Learning Study\"\n",
        "print(\"swapcase(): \", x.swapcase())"
      ],
      "metadata": {
        "colab": {
          "base_uri": "https://localhost:8080/"
        },
        "id": "4_WFEpx5CowQ",
        "outputId": "7bc3260a-5151-4cf8-a78f-4bae5446ce29"
      },
      "execution_count": 30,
      "outputs": [
        {
          "output_type": "stream",
          "name": "stdout",
          "text": [
            "swapcase():  mACHINE lEARNING sTUDY\n"
          ]
        }
      ]
    },
    {
      "cell_type": "code",
      "source": [
        "# title: convert to the title\n",
        "# The first character of each word is uppercase and others are lowercase\n",
        "x = \"Machine learning study\"\n",
        "print(\"title(): \", x.title())\n",
        "x = \"MACHINE learning study\"\n",
        "print(\"title(): \", x.title())"
      ],
      "metadata": {
        "colab": {
          "base_uri": "https://localhost:8080/"
        },
        "id": "pws2fmbeLXn5",
        "outputId": "91c9a6c6-48c0-46e9-9448-02af1c2ae1be"
      },
      "execution_count": 31,
      "outputs": [
        {
          "output_type": "stream",
          "name": "stdout",
          "text": [
            "title():  Machine Learning Study\n",
            "title():  Machine Learning Study\n"
          ]
        }
      ]
    },
    {
      "cell_type": "code",
      "source": [
        "# lower: convert to a string into lowercase\n",
        "# upper: convert to a string into uppercase\n",
        "x = \"Machine learning study\"\n",
        "print(\"lower(): \", x.lower())\n",
        "print(\"upper(): \", x.upper())"
      ],
      "metadata": {
        "colab": {
          "base_uri": "https://localhost:8080/"
        },
        "id": "2jPXEGWVMNg5",
        "outputId": "05d16eff-d5c7-43a5-fdf7-a02f8caf9b98"
      },
      "execution_count": 32,
      "outputs": [
        {
          "output_type": "stream",
          "name": "stdout",
          "text": [
            "lower():  machine learning study\n",
            "upper():  MACHINE LEARNING STUDY\n"
          ]
        }
      ]
    }
  ]
}