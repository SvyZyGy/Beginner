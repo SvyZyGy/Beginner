{
  "nbformat": 4,
  "nbformat_minor": 0,
  "metadata": {
    "colab": {
      "provenance": [],
      "authorship_tag": "ABX9TyN5cBbwEhvjwFQ0aUsFNZSr",
      "include_colab_link": true
    },
    "kernelspec": {
      "name": "python3",
      "display_name": "Python 3"
    },
    "language_info": {
      "name": "python"
    }
  },
  "cells": [
    {
      "cell_type": "markdown",
      "metadata": {
        "id": "view-in-github",
        "colab_type": "text"
      },
      "source": [
        "<a href=\"https://colab.research.google.com/github/SvyZyGy/Beginner/blob/Resave/ChP1_Basic_Data_Types.ipynb\" target=\"_parent\"><img src=\"https://colab.research.google.com/assets/colab-badge.svg\" alt=\"Open In Colab\"/></a>"
      ]
    },
    {
      "cell_type": "code",
      "execution_count": null,
      "metadata": {
        "colab": {
          "base_uri": "https://localhost:8080/"
        },
        "id": "08ethnm4wKD8",
        "outputId": "24ceeff0-a726-48ad-c733-07c83872f21e"
      },
      "outputs": [
        {
          "output_type": "stream",
          "name": "stdout",
          "text": [
            "<class 'int'>\n",
            "<class 'float'>\n"
          ]
        }
      ],
      "source": [
        "my_num = 3\n",
        "print(type(my_num))\n",
        "\n",
        "my_num = 1.0 # automatically converted 'int' to 'float'\n",
        "print(type(my_num))"
      ]
    },
    {
      "cell_type": "code",
      "source": [
        "my_num = 7\n",
        "print(type(my_num))\n",
        "\n",
        "my_str = \"AI\"\n",
        "print(type(my_str))\n",
        "\n",
        "my_lst = [\"Machine\", \"Learning\"]\n",
        "print(type(my_lst))"
      ],
      "metadata": {
        "colab": {
          "base_uri": "https://localhost:8080/"
        },
        "id": "HMqz6Tajx5dv",
        "outputId": "7f14f2a1-1989-4c14-b298-28f7d5014f69"
      },
      "execution_count": null,
      "outputs": [
        {
          "output_type": "stream",
          "name": "stdout",
          "text": [
            "<class 'int'>\n",
            "<class 'str'>\n",
            "<class 'list'>\n"
          ]
        }
      ]
    },
    {
      "cell_type": "markdown",
      "source": [
        "# 동적타이핑 (Dynamic typing)\n",
        "\n",
        "동적타이핑은 코드를 작성하는 데 있어서 컴퓨터적 구조를 생략한다.\n",
        "\n",
        "따라서 변수를 지정할 때 해당 변수의 데이터 타입 등을 명시하지 않아도 컴퓨터가 알아서 해석하도록 내버려 둔다.\n",
        "\n",
        "예컨대 파이썬에서 a = 15라는 식으로 변수를 지정할 때 a가 숫자라고 명시하지 않더라도 컴퓨터는 이를 스스로 숫자라 해석한다.\n",
        "\n",
        "이러한 방식은 코드를 더 간결하게 해주며 코드의 로직을 보다 명확히 보여줄 수 있지만,\n",
        "\n",
        "데이터 타입이 뭔지 파악하는 것을 컴퓨터에 맡기기 때문에 그만큼 실행속도가 느려진다는 단점이 있다.\n",
        "\n",
        "# 정적타이핑 (Static typing)\n",
        "\n",
        "정적타이핑은 동적타이핑과 정반대로 코드를 작성할 때 컴퓨터적 구조를 명시해준다.\n",
        "\n",
        "즉, int a = 15라는 식으로 변수의 데이터 타입을 직접 명시하며 컴퓨터가 해야 할 일을 덜어주는 것이다.\n",
        "\n",
        "이는 코드를 작성하는데 관련된 작은 정보들까지 개발자가 직접 신경 쓰도록 하는데, 이렇게 되면 코드의 안정성과 정교함이 커진다.\n",
        "\n",
        "하지만, 코드 구조 자체는 눈에 잘 들어올지라도 코드가 매우 길고 복잡해져서 처음 프로그래밍에 입문하기에 추천되지는 않는다.\n",
        "\n",
        "### [정리]\n",
        "\n",
        "##### 동적타이핑 (Dynamic typing)\n",
        "\n",
        "- 코드를 작성하는 시간이 빠르다.\n",
        "- 코드를 실행하는 속도가 느리다.\n",
        "- 코드의 내용, 로직을 파악하기 쉽다.\n",
        "- 처음 프로그래밍을 학습하는 사람에게 적합한 언어이다.\n",
        "- 속도를 중요시하는 작업에선 사용하기 부적합하지만 작고 단순한 프로젝트를 하기엔 적합하다.\n",
        "\n",
        "동적타이핑을 사용하는 언어 - 파이썬, 루비, PHP 등...\n",
        "\n",
        "##### 정적타이핑 (Static typing)\n",
        "\n",
        "- 코드를 작성하는 시간이 느리다.\n",
        "- 코드를 실행하는 속도가 빠르다.\n",
        "- 코드의 구조를 파악하기 쉽다.\n",
        "- 처음 프로그래밍 언어를 학습하는 사람들에겐 어려울 수 있다.\n",
        "- 크고 복잡하며 여러 사람이 함께 참여하는 프로젝트에 적합하다.\n",
        "\n",
        "정적타이핑을 사용하는 언어 - C, C++, 자바 등..."
      ],
      "metadata": {
        "id": "iWL6uK7kyhf4"
      }
    },
    {
      "cell_type": "markdown",
      "source": [
        "# P1.1. Integers and Floating Numbers"
      ],
      "metadata": {
        "id": "GZgsVYxT0FFf"
      }
    },
    {
      "cell_type": "code",
      "source": [
        "a = 3.7\n",
        "print(a, type(a))\n",
        "\n",
        "b = int(a)\n",
        "print(b, type(b))"
      ],
      "metadata": {
        "id": "Qxhsc0y8yM4Q",
        "colab": {
          "base_uri": "https://localhost:8080/"
        },
        "outputId": "89e01e0e-0a97-4af3-b17a-5624357be52a"
      },
      "execution_count": null,
      "outputs": [
        {
          "output_type": "stream",
          "name": "stdout",
          "text": [
            "3.7 <class 'float'>\n",
            "3 <class 'int'>\n"
          ]
        }
      ]
    },
    {
      "cell_type": "code",
      "source": [
        "a = 3\n",
        "print(a, type(a))\n",
        "\n",
        "b = float(a)\n",
        "print(b, type(b))"
      ],
      "metadata": {
        "colab": {
          "base_uri": "https://localhost:8080/"
        },
        "id": "B7_0BWTM0k0Q",
        "outputId": "f83cb2c5-d263-47d3-a1ca-fe3ae7c2dd6e"
      },
      "execution_count": null,
      "outputs": [
        {
          "output_type": "stream",
          "name": "stdout",
          "text": [
            "3 <class 'int'>\n",
            "3.0 <class 'float'>\n"
          ]
        }
      ]
    },
    {
      "cell_type": "code",
      "source": [
        "from typing import MutableMapping\n",
        "a = 3\n",
        "b = 4\n",
        "add = a + b # Addition\n",
        "sub = a - b # Substraction\n",
        "mul = a * b # Multiplication\n",
        "div = a / b # Division\n",
        "\n",
        "print(add, sub, mul, div)\n",
        "print(type(add), type(sub), type(mul), type(div))"
      ],
      "metadata": {
        "colab": {
          "base_uri": "https://localhost:8080/"
        },
        "id": "e-KKBqWJ0pvv",
        "outputId": "77c3b462-44e2-4d34-cb83-fa806accf34f"
      },
      "execution_count": null,
      "outputs": [
        {
          "output_type": "stream",
          "name": "stdout",
          "text": [
            "7 -1 12 0.75\n",
            "<class 'int'> <class 'int'> <class 'int'> <class 'float'>\n"
          ]
        }
      ]
    },
    {
      "cell_type": "code",
      "source": [
        "a = 3.0\n",
        "b = 4.0\n",
        "add = a + b\n",
        "sub = a - b\n",
        "mul = a * b\n",
        "div = a / b\n",
        "\n",
        "print(add, sub, mul, div)\n",
        "print(type(add), type(sub), type(mul), type(div))"
      ],
      "metadata": {
        "colab": {
          "base_uri": "https://localhost:8080/"
        },
        "id": "nL8E2x8k1aSA",
        "outputId": "17852484-cc46-45cf-d7fc-52c222b2c443"
      },
      "execution_count": null,
      "outputs": [
        {
          "output_type": "stream",
          "name": "stdout",
          "text": [
            "7.0 -1.0 12.0 0.75\n",
            "<class 'float'> <class 'float'> <class 'float'> <class 'float'>\n"
          ]
        }
      ]
    },
    {
      "cell_type": "code",
      "source": [
        "a = 3\n",
        "b = 4.0\n",
        "add = a + b\n",
        "sub = a - b\n",
        "mul = a * b\n",
        "div = a / b\n",
        "\n",
        "print(add, sub, mul, div)\n",
        "print(type(add), type(sub), type(mul), type(div))"
      ],
      "metadata": {
        "colab": {
          "base_uri": "https://localhost:8080/"
        },
        "id": "DurKfUrL1v85",
        "outputId": "e51301d2-62b7-4473-b7f8-4808cee65558"
      },
      "execution_count": null,
      "outputs": [
        {
          "output_type": "stream",
          "name": "stdout",
          "text": [
            "7.0 -1.0 12.0 0.75\n",
            "<class 'float'> <class 'float'> <class 'float'> <class 'float'>\n"
          ]
        }
      ]
    },
    {
      "cell_type": "code",
      "source": [
        "a = 5\n",
        "b = 3\n",
        "\n",
        "TD_result = a // b    # Trucated Division\n",
        "modulo_result = a % b # Modulo (x mod y)\n",
        "                      # Remainder\n",
        "power_result = a ** b # Power (x to the y power)\n",
        "\n",
        "print(TD_result, modulo_result, power_result)"
      ],
      "metadata": {
        "colab": {
          "base_uri": "https://localhost:8080/"
        },
        "id": "_hxM5Wt511Mr",
        "outputId": "5c572339-d3e9-41ec-a4c2-fcf716716a66"
      },
      "execution_count": null,
      "outputs": [
        {
          "output_type": "stream",
          "name": "stdout",
          "text": [
            "1 2 125\n"
          ]
        }
      ]
    },
    {
      "cell_type": "markdown",
      "source": [
        "# P1.2. Strings"
      ],
      "metadata": {
        "id": "OJkL5UmO2JSz"
      }
    },
    {
      "cell_type": "markdown",
      "source": [
        "### P1.2.1. String Representation"
      ],
      "metadata": {
        "id": "BzMHSjD42inu"
      }
    },
    {
      "cell_type": "code",
      "source": [
        "my_string1 = \"Machine Learning\"\n",
        "my_string2 = 'Machine Learning'\n",
        "\n",
        "print(my_string1, my_string2)\n",
        "print(type(my_string1), type(my_string2))"
      ],
      "metadata": {
        "colab": {
          "base_uri": "https://localhost:8080/"
        },
        "id": "Lvr68w6u2G_c",
        "outputId": "d3c8e3b5-f4e7-4db5-bf22-ad1c7086cda7"
      },
      "execution_count": null,
      "outputs": [
        {
          "output_type": "stream",
          "name": "stdout",
          "text": [
            "Machine Learning Machine Learning\n",
            "<class 'str'> <class 'str'>\n"
          ]
        }
      ]
    },
    {
      "cell_type": "code",
      "source": [
        "len(my_string1)"
      ],
      "metadata": {
        "colab": {
          "base_uri": "https://localhost:8080/"
        },
        "id": "Igy6WgKD2-Q3",
        "outputId": "18be2d74-e4e0-4b9f-ad92-f7072348120f"
      },
      "execution_count": null,
      "outputs": [
        {
          "output_type": "execute_result",
          "data": {
            "text/plain": [
              "16"
            ]
          },
          "metadata": {},
          "execution_count": 3
        }
      ]
    },
    {
      "cell_type": "code",
      "source": [
        "a = 'I said, \"I love it.\"'\n",
        "print(a)\n",
        "\n",
        "b = \"Let's start.\"\n",
        "print(b)"
      ],
      "metadata": {
        "colab": {
          "base_uri": "https://localhost:8080/"
        },
        "id": "KTh_L4Ss3Ezz",
        "outputId": "b5f535c1-4490-4164-c720-cc8a2daaa24a"
      },
      "execution_count": null,
      "outputs": [
        {
          "output_type": "stream",
          "name": "stdout",
          "text": [
            "I said, \"I love it.\"\n",
            "Let's start.\n"
          ]
        }
      ]
    },
    {
      "cell_type": "code",
      "source": [
        "a = \"I said, \\\"I love it.\\\"\"\n",
        "print(a)\n",
        "\n",
        "b = 'Let\\'s start.'\n",
        "print(b)\n",
        "\n",
        "c = \"I said, \\\"Let\\'s start.\\\"\"\n",
        "print(c)"
      ],
      "metadata": {
        "colab": {
          "base_uri": "https://localhost:8080/"
        },
        "id": "NgA4kDht3ZO2",
        "outputId": "8f823496-60c2-4332-a1ab-9d377c5223da"
      },
      "execution_count": null,
      "outputs": [
        {
          "output_type": "stream",
          "name": "stdout",
          "text": [
            "I said, \"I love it.\"\n",
            "Let's start.\n",
            "I said, \"Let's start.\"\n"
          ]
        }
      ]
    },
    {
      "cell_type": "markdown",
      "source": [
        "### P1.2.2. String Indexing and Slicing"
      ],
      "metadata": {
        "id": "vmjXJYJ04C87"
      }
    },
    {
      "cell_type": "code",
      "source": [
        "a = 'hello'\n",
        "print(a[0], a[1], a[2], a[3], a[4])"
      ],
      "metadata": {
        "colab": {
          "base_uri": "https://localhost:8080/"
        },
        "id": "6u4SQwgb3rGL",
        "outputId": "a5fca132-e3ea-4b56-ad5e-980ae2d51fa7"
      },
      "execution_count": null,
      "outputs": [
        {
          "output_type": "stream",
          "name": "stdout",
          "text": [
            "h e l l o\n"
          ]
        }
      ]
    },
    {
      "cell_type": "code",
      "source": [
        "# Error code\n",
        "a[5]"
      ],
      "metadata": {
        "colab": {
          "base_uri": "https://localhost:8080/",
          "height": 198
        },
        "id": "HCsEI7HL4YdD",
        "outputId": "c6c40d17-5cc4-4543-ffe8-366cfe1af0e4"
      },
      "execution_count": null,
      "outputs": [
        {
          "output_type": "error",
          "ename": "IndexError",
          "evalue": "string index out of range",
          "traceback": [
            "\u001b[0;31m---------------------------------------------------------------------------\u001b[0m",
            "\u001b[0;31mIndexError\u001b[0m                                Traceback (most recent call last)",
            "\u001b[0;32m<ipython-input-32-93b6936dd96e>\u001b[0m in \u001b[0;36m<cell line: 2>\u001b[0;34m()\u001b[0m\n\u001b[1;32m      1\u001b[0m \u001b[0;31m# Error code\u001b[0m\u001b[0;34m\u001b[0m\u001b[0;34m\u001b[0m\u001b[0m\n\u001b[0;32m----> 2\u001b[0;31m \u001b[0ma\u001b[0m\u001b[0;34m[\u001b[0m\u001b[0;36m5\u001b[0m\u001b[0;34m]\u001b[0m\u001b[0;34m\u001b[0m\u001b[0;34m\u001b[0m\u001b[0m\n\u001b[0m",
            "\u001b[0;31mIndexError\u001b[0m: string index out of range"
          ]
        }
      ]
    },
    {
      "cell_type": "code",
      "source": [
        "a = 'Machine learning'\n",
        "print(a[-1], a[-2], a[-3], 'vs.', a[15], a[14], a[13])"
      ],
      "metadata": {
        "colab": {
          "base_uri": "https://localhost:8080/"
        },
        "id": "lCXKPk074ce7",
        "outputId": "686024a0-5629-4f53-ab57-696aef29891b"
      },
      "execution_count": null,
      "outputs": [
        {
          "output_type": "stream",
          "name": "stdout",
          "text": [
            "g n i vs. g n i\n"
          ]
        }
      ]
    },
    {
      "cell_type": "code",
      "source": [
        "a = 'Machine learning'\n",
        "b = a[0:10:2] # a[10] is not included\n",
        "c = a[10:0:-1] # a[0] is not included\n",
        "print(b)\n",
        "print(c)"
      ],
      "metadata": {
        "colab": {
          "base_uri": "https://localhost:8080/"
        },
        "id": "3QmtmsGb40t7",
        "outputId": "cde91d7f-2a42-4bbd-8e02-83440a4fcb02"
      },
      "execution_count": null,
      "outputs": [
        {
          "output_type": "stream",
          "name": "stdout",
          "text": [
            "Mciel\n",
            "ael enihca\n"
          ]
        }
      ]
    },
    {
      "cell_type": "code",
      "source": [
        "a = 'Machine learning'\n",
        "step_1 = a[0:10:1]\n",
        "no_step = a[0:10]\n",
        "print(step_1, 'vs.', no_step)"
      ],
      "metadata": {
        "colab": {
          "base_uri": "https://localhost:8080/"
        },
        "id": "KaZ1RYadK2W2",
        "outputId": "b519a48d-6260-40a6-c1aa-434528900de6"
      },
      "execution_count": null,
      "outputs": [
        {
          "output_type": "stream",
          "name": "stdout",
          "text": [
            "Machine le vs. Machine le\n"
          ]
        }
      ]
    },
    {
      "cell_type": "code",
      "source": [
        "a = 'Machine learning'\n",
        "start_0 = a[0:10]\n",
        "no_start_positive_step = a[:10]\n",
        "print(start_0, 'vs.', no_start_positive_step)\n",
        "\n",
        "start_last = a[15:10:-1]\n",
        "no_start_negative_step = a[:10:-1]\n",
        "print(start_last, 'vs.', no_start_negative_step)"
      ],
      "metadata": {
        "colab": {
          "base_uri": "https://localhost:8080/"
        },
        "id": "zRKoxZUmLP8A",
        "outputId": "b8524f41-244b-4ee2-cc52-e375ad3e65cf"
      },
      "execution_count": null,
      "outputs": [
        {
          "output_type": "stream",
          "name": "stdout",
          "text": [
            "Machine le vs. Machine le\n",
            "gninr vs. gninr\n"
          ]
        }
      ]
    },
    {
      "cell_type": "code",
      "source": [
        "a = 'Machine learning'\n",
        "start_0 = a[0:10]\n",
        "no_start = a[:10]\n",
        "print(start_0, 'vs.', no_start)"
      ],
      "metadata": {
        "colab": {
          "base_uri": "https://localhost:8080/"
        },
        "id": "YvykS1j7M1kM",
        "outputId": "219ade19-5631-4b95-9e87-ee7f2e7a6972"
      },
      "execution_count": null,
      "outputs": [
        {
          "output_type": "stream",
          "name": "stdout",
          "text": [
            "Machine le vs. Machine le\n"
          ]
        }
      ]
    },
    {
      "cell_type": "code",
      "source": [
        "a = 'Machine learning'\n",
        "stop_last_index = a[10:15]\n",
        "# a[10:16] can include thee 15th (last) index, but not recommended.\n",
        "\n",
        "# instead, leave the stop index blank\n",
        "no_stop = a[10:] # recommended\n",
        "print(stop_last_index, 'vs.', no_stop)"
      ],
      "metadata": {
        "id": "X4ju2jcCNT_2",
        "colab": {
          "base_uri": "https://localhost:8080/"
        },
        "outputId": "58f108a1-0f17-41af-be77-230f13d223f9"
      },
      "execution_count": null,
      "outputs": [
        {
          "output_type": "stream",
          "name": "stdout",
          "text": [
            "arnin vs. arning\n"
          ]
        }
      ]
    },
    {
      "cell_type": "code",
      "source": [
        "a = 'Machine learning'\n",
        "all = a[:]\n",
        "print(all)"
      ],
      "metadata": {
        "colab": {
          "base_uri": "https://localhost:8080/"
        },
        "id": "LvRhYgONQfBf",
        "outputId": "477798c4-6b64-4e57-dd81-2afc8d244196"
      },
      "execution_count": null,
      "outputs": [
        {
          "output_type": "stream",
          "name": "stdout",
          "text": [
            "Machine learning\n"
          ]
        }
      ]
    },
    {
      "cell_type": "code",
      "source": [
        "a = 'Machine learning'\n",
        "reversed = a[::-1]\n",
        "print(reversed)"
      ],
      "metadata": {
        "colab": {
          "base_uri": "https://localhost:8080/"
        },
        "id": "dGL-Ys5FQ1fw",
        "outputId": "d430dd9f-d489-4765-95e8-4763d182d5bb"
      },
      "execution_count": null,
      "outputs": [
        {
          "output_type": "stream",
          "name": "stdout",
          "text": [
            "gninrael enihcaM\n"
          ]
        }
      ]
    },
    {
      "cell_type": "code",
      "source": [
        "a = 'Machine learning'\n",
        "with_index = a[7:15] # a[15] is not included\n",
        "with_reverse_index = a[-9:-1] #a[-1] is not included\n",
        "print(with_index, with_reverse_index)"
      ],
      "metadata": {
        "colab": {
          "base_uri": "https://localhost:8080/"
        },
        "id": "c4-kNkJQRGzT",
        "outputId": "a3448273-618a-45c9-d52a-0e99373ad6bf"
      },
      "execution_count": null,
      "outputs": [
        {
          "output_type": "stream",
          "name": "stdout",
          "text": [
            " learnin  learnin\n"
          ]
        }
      ]
    },
    {
      "cell_type": "code",
      "source": [
        "a = 'Machine learning'\n",
        "with_index = a[7:] # a[15] is included\n",
        "with_reverse_index = a[-9:] #a[-1] is included\n",
        "print(with_index, with_reverse_index)"
      ],
      "metadata": {
        "colab": {
          "base_uri": "https://localhost:8080/"
        },
        "id": "ZK_9EA0VRvcE",
        "outputId": "cd4c6b8f-8a13-4907-bd02-2162f052a397"
      },
      "execution_count": null,
      "outputs": [
        {
          "output_type": "stream",
          "name": "stdout",
          "text": [
            " learning  learning\n"
          ]
        }
      ]
    },
    {
      "cell_type": "code",
      "source": [
        "a = 'Machine learning'\n",
        "mixed_index = a[8:-3] # same as a[8:13]\n",
        "print(mixed_index)"
      ],
      "metadata": {
        "colab": {
          "base_uri": "https://localhost:8080/"
        },
        "id": "QJTwnv_dR7-8",
        "outputId": "5c1006f3-3a31-49e0-90f4-650e98ddd340"
      },
      "execution_count": null,
      "outputs": [
        {
          "output_type": "stream",
          "name": "stdout",
          "text": [
            "learn\n"
          ]
        }
      ]
    },
    {
      "cell_type": "code",
      "source": [
        "a = '**Machine learning is fun ... ... We will have a long journey.*'\n",
        "mixed_index = a[2:-1]\n",
        "print(mixed_index)"
      ],
      "metadata": {
        "id": "NTHJIiCWSTWP",
        "colab": {
          "base_uri": "https://localhost:8080/"
        },
        "outputId": "857bb7e9-dacf-4104-fdf9-2d4f758746d4"
      },
      "execution_count": null,
      "outputs": [
        {
          "output_type": "stream",
          "name": "stdout",
          "text": [
            "Machine learning is fun ... ... We will have a long journey.\n"
          ]
        }
      ]
    },
    {
      "cell_type": "code",
      "source": [
        "subject = \"Machine learning\"\n",
        "#subject[0] = \"D\" # This line gives you an error."
      ],
      "metadata": {
        "id": "jqinhSYErXJl"
      },
      "execution_count": null,
      "outputs": []
    },
    {
      "cell_type": "code",
      "source": [
        "subject = \"Machine learning\"\n",
        "print(subject, id(subject))\n",
        "subject = \"Dachine learning\"\n",
        "print(subject, id(subject))"
      ],
      "metadata": {
        "colab": {
          "base_uri": "https://localhost:8080/"
        },
        "id": "0S6sMmFSsJyo",
        "outputId": "641cf3f2-6a93-4785-ca51-f0dfd7a3505a"
      },
      "execution_count": null,
      "outputs": [
        {
          "output_type": "stream",
          "name": "stdout",
          "text": [
            "Machine learning 136501952184064\n",
            "Dachine learning 136501952183824\n"
          ]
        }
      ]
    },
    {
      "cell_type": "code",
      "source": [
        "num = 1\n",
        "print(num, id(num))\n",
        "num = 2\n",
        "print(num, id(num))\n",
        "num = 3.0\n",
        "print(num, id(num))\n",
        "num = 4.0\n",
        "print(num, id(num))"
      ],
      "metadata": {
        "colab": {
          "base_uri": "https://localhost:8080/"
        },
        "id": "7xOHicCatqdR",
        "outputId": "6b8d8ec8-f88d-46d9-a86d-68967e383c3e"
      },
      "execution_count": null,
      "outputs": [
        {
          "output_type": "stream",
          "name": "stdout",
          "text": [
            "1 136503220240624\n",
            "2 136503220240656\n",
            "3.0 136501954325392\n",
            "4.0 136501954327216\n"
          ]
        }
      ]
    },
    {
      "cell_type": "code",
      "source": [
        "subject = \"Machine learning \"\n",
        "verb = \"is \"\n",
        "feel = \"fun \"\n",
        "sentence = subject + verb + feel\n",
        "print(sentence)"
      ],
      "metadata": {
        "colab": {
          "base_uri": "https://localhost:8080/"
        },
        "id": "3gwmvniMuYWj",
        "outputId": "3049cc88-ae1a-4a57-dd15-6cbc21f7dde3"
      },
      "execution_count": null,
      "outputs": [
        {
          "output_type": "stream",
          "name": "stdout",
          "text": [
            "Machine learning is fun \n"
          ]
        }
      ]
    },
    {
      "cell_type": "code",
      "source": [
        "sentences = sentence * 3\n",
        "print(sentences)"
      ],
      "metadata": {
        "colab": {
          "base_uri": "https://localhost:8080/"
        },
        "id": "jIzLqvwtvIXC",
        "outputId": "10aa862c-2a08-4a7e-ab52-c099bee79de3"
      },
      "execution_count": null,
      "outputs": [
        {
          "output_type": "stream",
          "name": "stdout",
          "text": [
            "Machine learning is fun Machine learning is fun Machine learning is fun \n"
          ]
        }
      ]
    },
    {
      "cell_type": "code",
      "source": [
        "# Quiz) What is the difference between the two results below?\n",
        "a = 2\n",
        "b = 3\n",
        "c = a + b\n",
        "print(c)\n",
        "\n",
        "a = '2'\n",
        "b = '3'\n",
        "c = a + b\n",
        "print(c)"
      ],
      "metadata": {
        "colab": {
          "base_uri": "https://localhost:8080/"
        },
        "id": "U3M_DhqQvQ6G",
        "outputId": "bbaa72bc-072f-45e5-8ddf-7eff6af4bb65"
      },
      "execution_count": null,
      "outputs": [
        {
          "output_type": "stream",
          "name": "stdout",
          "text": [
            "5\n",
            "23\n"
          ]
        }
      ]
    }
  ]
}