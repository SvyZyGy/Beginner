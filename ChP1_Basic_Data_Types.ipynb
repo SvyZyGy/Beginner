{
  "nbformat": 4,
  "nbformat_minor": 0,
  "metadata": {
    "colab": {
      "provenance": [],
      "authorship_tag": "ABX9TyN5cBbwEhvjwFQ0aUsFNZSr",
      "include_colab_link": true
    },
    "kernelspec": {
      "name": "python3",
      "display_name": "Python 3"
    },
    "language_info": {
      "name": "python"
    }
  },
  "cells": [
    {
      "cell_type": "markdown",
      "metadata": {
        "id": "view-in-github",
        "colab_type": "text"
      },
      "source": [
        "<a href=\"https://colab.research.google.com/github/SvyZyGy/Beginner/blob/Resave/ChP1_Basic_Data_Types.ipynb\" target=\"_parent\"><img src=\"https://colab.research.google.com/assets/colab-badge.svg\" alt=\"Open In Colab\"/></a>"
      ]
    },
    {
      "cell_type": "code",
      "execution_count": 1,
      "metadata": {
        "colab": {
          "base_uri": "https://localhost:8080/"
        },
        "id": "08ethnm4wKD8",
        "outputId": "7321b6d2-242e-4e8a-9dc0-deafe00e4b15"
      },
      "outputs": [
        {
          "output_type": "stream",
          "name": "stdout",
          "text": [
            "<class 'int'>\n",
            "<class 'float'>\n"
          ]
        }
      ],
      "source": [
        "my_num = 3\n",
        "print(type(my_num))\n",
        "\n",
        "my_num = 1.0 # automatically converted 'int' to 'float'\n",
        "print(type(my_num))"
      ]
    },
    {
      "cell_type": "code",
      "source": [
        "my_num = 7\n",
        "print(type(my_num))\n",
        "\n",
        "my_str = \"AI\"\n",
        "print(type(my_str))\n",
        "\n",
        "my_lst = [\"Machine\", \"Learning\"]\n",
        "print(type(my_lst))"
      ],
      "metadata": {
        "colab": {
          "base_uri": "https://localhost:8080/"
        },
        "id": "HMqz6Tajx5dv",
        "outputId": "8b18020b-dcbd-4658-ffd4-633b8b71a58d"
      },
      "execution_count": 2,
      "outputs": [
        {
          "output_type": "stream",
          "name": "stdout",
          "text": [
            "<class 'int'>\n",
            "<class 'str'>\n",
            "<class 'list'>\n"
          ]
        }
      ]
    },
    {
      "cell_type": "markdown",
      "source": [
        "# 동적타이핑 (Dynamic typing)\n",
        "\n",
        "동적타이핑은 코드를 작성하는 데 있어서 컴퓨터적 구조를 생략한다.\n",
        "\n",
        "따라서 변수를 지정할 때 해당 변수의 데이터 타입 등을 명시하지 않아도 컴퓨터가 알아서 해석하도록 내버려 둔다.\n",
        "\n",
        "예컨대 파이썬에서 a = 15라는 식으로 변수를 지정할 때 a가 숫자라고 명시하지 않더라도 컴퓨터는 이를 스스로 숫자라 해석한다.\n",
        "\n",
        "이러한 방식은 코드를 더 간결하게 해주며 코드의 로직을 보다 명확히 보여줄 수 있지만,\n",
        "\n",
        "데이터 타입이 뭔지 파악하는 것을 컴퓨터에 맡기기 때문에 그만큼 실행속도가 느려진다는 단점이 있다.\n",
        "\n",
        "# 정적타이핑 (Static typing)\n",
        "\n",
        "정적타이핑은 동적타이핑과 정반대로 코드를 작성할 때 컴퓨터적 구조를 명시해준다.\n",
        "\n",
        "즉, int a = 15라는 식으로 변수의 데이터 타입을 직접 명시하며 컴퓨터가 해야 할 일을 덜어주는 것이다.\n",
        "\n",
        "이는 코드를 작성하는데 관련된 작은 정보들까지 개발자가 직접 신경 쓰도록 하는데, 이렇게 되면 코드의 안정성과 정교함이 커진다.\n",
        "\n",
        "하지만, 코드 구조 자체는 눈에 잘 들어올지라도 코드가 매우 길고 복잡해져서 처음 프로그래밍에 입문하기에 추천되지는 않는다.\n",
        "\n",
        "### [정리]\n",
        "\n",
        "##### 동적타이핑 (Dynamic typing)\n",
        "\n",
        "- 코드를 작성하는 시간이 빠르다.\n",
        "- 코드를 실행하는 속도가 느리다.\n",
        "- 코드의 내용, 로직을 파악하기 쉽다.\n",
        "- 처음 프로그래밍을 학습하는 사람에게 적합한 언어이다.\n",
        "- 속도를 중요시하는 작업에선 사용하기 부적합하지만 작고 단순한 프로젝트를 하기엔 적합하다.\n",
        "\n",
        "동적타이핑을 사용하는 언어 - 파이썬, 루비, PHP 등...\n",
        "\n",
        "##### 정적타이핑 (Static typing)\n",
        "\n",
        "- 코드를 작성하는 시간이 느리다.\n",
        "- 코드를 실행하는 속도가 빠르다.\n",
        "- 코드의 구조를 파악하기 쉽다.\n",
        "- 처음 프로그래밍 언어를 학습하는 사람들에겐 어려울 수 있다.\n",
        "- 크고 복잡하며 여러 사람이 함께 참여하는 프로젝트에 적합하다.\n",
        "\n",
        "정적타이핑을 사용하는 언어 - C, C++, 자바 등..."
      ],
      "metadata": {
        "id": "iWL6uK7kyhf4"
      }
    },
    {
      "cell_type": "markdown",
      "source": [
        "# P1.1. Integers and Floating Numbers"
      ],
      "metadata": {
        "id": "GZgsVYxT0FFf"
      }
    },
    {
      "cell_type": "code",
      "source": [
        "a = 3.7\n",
        "print(a, type(a))\n",
        "\n",
        "b = int(a)\n",
        "print(b, type(b))"
      ],
      "metadata": {
        "id": "Qxhsc0y8yM4Q",
        "colab": {
          "base_uri": "https://localhost:8080/"
        },
        "outputId": "fc4869cb-75eb-4607-ef73-1c1023a641e3"
      },
      "execution_count": 3,
      "outputs": [
        {
          "output_type": "stream",
          "name": "stdout",
          "text": [
            "3.7 <class 'float'>\n",
            "3 <class 'int'>\n"
          ]
        }
      ]
    },
    {
      "cell_type": "code",
      "source": [
        "a = 3\n",
        "print(a, type(a))\n",
        "\n",
        "b = float(a)\n",
        "print(b, type(b))"
      ],
      "metadata": {
        "colab": {
          "base_uri": "https://localhost:8080/"
        },
        "id": "B7_0BWTM0k0Q",
        "outputId": "520046c9-a4ec-46d5-f753-c2e43d1fa6a3"
      },
      "execution_count": 4,
      "outputs": [
        {
          "output_type": "stream",
          "name": "stdout",
          "text": [
            "3 <class 'int'>\n",
            "3.0 <class 'float'>\n"
          ]
        }
      ]
    },
    {
      "cell_type": "code",
      "source": [
        "from typing import MutableMapping\n",
        "a = 3\n",
        "b = 4\n",
        "add = a + b # Addition\n",
        "sub = a - b # Substraction\n",
        "mul = a * b # Multiplication\n",
        "div = a / b # Division\n",
        "\n",
        "print(add, sub, mul, div)\n",
        "print(type(add), type(sub), type(mul), type(div))"
      ],
      "metadata": {
        "colab": {
          "base_uri": "https://localhost:8080/"
        },
        "id": "e-KKBqWJ0pvv",
        "outputId": "84dada2d-0f10-4031-964c-dccc06f52571"
      },
      "execution_count": 5,
      "outputs": [
        {
          "output_type": "stream",
          "name": "stdout",
          "text": [
            "7 -1 12 0.75\n",
            "<class 'int'> <class 'int'> <class 'int'> <class 'float'>\n"
          ]
        }
      ]
    },
    {
      "cell_type": "code",
      "source": [
        "a = 3.0\n",
        "b = 4.0\n",
        "add = a + b\n",
        "sub = a - b\n",
        "mul = a * b\n",
        "div = a / b\n",
        "\n",
        "print(add, sub, mul, div)\n",
        "print(type(add), type(sub), type(mul), type(div))"
      ],
      "metadata": {
        "colab": {
          "base_uri": "https://localhost:8080/"
        },
        "id": "nL8E2x8k1aSA",
        "outputId": "7e24ca7f-dac8-49f8-b7db-561f4c3c7dbe"
      },
      "execution_count": 6,
      "outputs": [
        {
          "output_type": "stream",
          "name": "stdout",
          "text": [
            "7.0 -1.0 12.0 0.75\n",
            "<class 'float'> <class 'float'> <class 'float'> <class 'float'>\n"
          ]
        }
      ]
    },
    {
      "cell_type": "code",
      "source": [
        "a = 3\n",
        "b = 4.0\n",
        "add = a + b\n",
        "sub = a - b\n",
        "mul = a * b\n",
        "div = a / b\n",
        "\n",
        "print(add, sub, mul, div)\n",
        "print(type(add), type(sub), type(mul), type(div))"
      ],
      "metadata": {
        "colab": {
          "base_uri": "https://localhost:8080/"
        },
        "id": "DurKfUrL1v85",
        "outputId": "e66e324a-db3f-4775-b816-c81ddf0cef84"
      },
      "execution_count": 7,
      "outputs": [
        {
          "output_type": "stream",
          "name": "stdout",
          "text": [
            "7.0 -1.0 12.0 0.75\n",
            "<class 'float'> <class 'float'> <class 'float'> <class 'float'>\n"
          ]
        }
      ]
    },
    {
      "cell_type": "code",
      "source": [
        "a = 5\n",
        "b = 3\n",
        "\n",
        "TD_result = a // b    # Trucated Division\n",
        "modulo_result = a % b # Modulo (x mod y)\n",
        "                      # Remainder\n",
        "power_result = a ** b # Power (x to the y power)\n",
        "\n",
        "print(TD_result, modulo_result, power_result)"
      ],
      "metadata": {
        "colab": {
          "base_uri": "https://localhost:8080/"
        },
        "id": "_hxM5Wt511Mr",
        "outputId": "3176ca28-8af3-4979-df3b-00a827c3900a"
      },
      "execution_count": 8,
      "outputs": [
        {
          "output_type": "stream",
          "name": "stdout",
          "text": [
            "1 2 125\n"
          ]
        }
      ]
    },
    {
      "cell_type": "markdown",
      "source": [
        "# P1.2. Strings"
      ],
      "metadata": {
        "id": "OJkL5UmO2JSz"
      }
    },
    {
      "cell_type": "markdown",
      "source": [
        "### P1.2.1. String Representation"
      ],
      "metadata": {
        "id": "BzMHSjD42inu"
      }
    },
    {
      "cell_type": "code",
      "source": [
        "my_string1 = \"Machine Learning\"\n",
        "my_string2 = 'Machine Learning'\n",
        "\n",
        "print(my_string1, my_string2)\n",
        "print(type(my_string1), type(my_string2))"
      ],
      "metadata": {
        "colab": {
          "base_uri": "https://localhost:8080/"
        },
        "id": "Lvr68w6u2G_c",
        "outputId": "efec0d88-51a6-465d-f62f-cc8333313420"
      },
      "execution_count": 10,
      "outputs": [
        {
          "output_type": "stream",
          "name": "stdout",
          "text": [
            "Machine Learning Machine Learning\n",
            "<class 'str'> <class 'str'>\n"
          ]
        }
      ]
    },
    {
      "cell_type": "code",
      "source": [
        "len(my_string1)"
      ],
      "metadata": {
        "colab": {
          "base_uri": "https://localhost:8080/"
        },
        "id": "Igy6WgKD2-Q3",
        "outputId": "8b6ae034-09f4-41be-e0b5-246c641c36c0"
      },
      "execution_count": 11,
      "outputs": [
        {
          "output_type": "execute_result",
          "data": {
            "text/plain": [
              "16"
            ]
          },
          "metadata": {},
          "execution_count": 11
        }
      ]
    },
    {
      "cell_type": "code",
      "source": [
        "a = 'I said, \"I love it.\"'\n",
        "print(a)\n",
        "\n",
        "b = \"Let's start.\"\n",
        "print(b)"
      ],
      "metadata": {
        "colab": {
          "base_uri": "https://localhost:8080/"
        },
        "id": "KTh_L4Ss3Ezz",
        "outputId": "9bfc306b-bcd9-4c03-9043-b0dbcb04baf4"
      },
      "execution_count": 12,
      "outputs": [
        {
          "output_type": "stream",
          "name": "stdout",
          "text": [
            "I said, \"I love it.\"\n",
            "Let's start.\n"
          ]
        }
      ]
    },
    {
      "cell_type": "code",
      "source": [
        "a = \"I said, \\\"I love it.\\\"\"\n",
        "print(a)\n",
        "\n",
        "b = 'Let\\'s start.'\n",
        "print(b)\n",
        "\n",
        "c = \"I said, \\\"Let\\'s start.\\\"\"\n",
        "print(c)"
      ],
      "metadata": {
        "colab": {
          "base_uri": "https://localhost:8080/"
        },
        "id": "NgA4kDht3ZO2",
        "outputId": "8301a839-0fd3-4365-cadb-b611f6e5935a"
      },
      "execution_count": 13,
      "outputs": [
        {
          "output_type": "stream",
          "name": "stdout",
          "text": [
            "I said, \"I love it.\"\n",
            "Let's start.\n",
            "I said, \"Let's start.\"\n"
          ]
        }
      ]
    },
    {
      "cell_type": "markdown",
      "source": [
        "### P1.2.2. String Indexing and Slicing"
      ],
      "metadata": {
        "id": "vmjXJYJ04C87"
      }
    },
    {
      "cell_type": "code",
      "source": [
        "a = 'hello'\n",
        "print(a[0], a[1], a[2], a[3], a[4])"
      ],
      "metadata": {
        "colab": {
          "base_uri": "https://localhost:8080/"
        },
        "id": "6u4SQwgb3rGL",
        "outputId": "3cc4da43-ad82-452d-e118-667407cbcd5b"
      },
      "execution_count": 14,
      "outputs": [
        {
          "output_type": "stream",
          "name": "stdout",
          "text": [
            "h e l l o\n"
          ]
        }
      ]
    },
    {
      "cell_type": "code",
      "source": [
        "# Error code\n",
        "a[5]"
      ],
      "metadata": {
        "colab": {
          "base_uri": "https://localhost:8080/",
          "height": 204
        },
        "id": "HCsEI7HL4YdD",
        "outputId": "c2ab46b9-7623-4984-963e-9647b1e51a8e"
      },
      "execution_count": 15,
      "outputs": [
        {
          "output_type": "error",
          "ename": "IndexError",
          "evalue": "string index out of range",
          "traceback": [
            "\u001b[0;31m---------------------------------------------------------------------------\u001b[0m",
            "\u001b[0;31mIndexError\u001b[0m                                Traceback (most recent call last)",
            "\u001b[0;32m<ipython-input-15-93b6936dd96e>\u001b[0m in \u001b[0;36m<cell line: 2>\u001b[0;34m()\u001b[0m\n\u001b[1;32m      1\u001b[0m \u001b[0;31m# Error code\u001b[0m\u001b[0;34m\u001b[0m\u001b[0;34m\u001b[0m\u001b[0m\n\u001b[0;32m----> 2\u001b[0;31m \u001b[0ma\u001b[0m\u001b[0;34m[\u001b[0m\u001b[0;36m5\u001b[0m\u001b[0;34m]\u001b[0m\u001b[0;34m\u001b[0m\u001b[0;34m\u001b[0m\u001b[0m\n\u001b[0m",
            "\u001b[0;31mIndexError\u001b[0m: string index out of range"
          ]
        }
      ]
    },
    {
      "cell_type": "code",
      "source": [
        "a = 'Machine learning'\n",
        "print(a[-1], a[-2], a[-3], 'vs.', a[15], a[14], a[13])"
      ],
      "metadata": {
        "colab": {
          "base_uri": "https://localhost:8080/"
        },
        "id": "lCXKPk074ce7",
        "outputId": "2c2b9d04-6c96-46df-afd7-6b5e8beaedbc"
      },
      "execution_count": 16,
      "outputs": [
        {
          "output_type": "stream",
          "name": "stdout",
          "text": [
            "g n i vs. g n i\n"
          ]
        }
      ]
    },
    {
      "cell_type": "code",
      "source": [
        "a = 'Machine learning'\n",
        "b = a[0:10:2] # a[10] is not included\n",
        "c = a[10:0:-1] # a[0] is not included\n",
        "print(b)\n",
        "print(c)"
      ],
      "metadata": {
        "colab": {
          "base_uri": "https://localhost:8080/"
        },
        "id": "3QmtmsGb40t7",
        "outputId": "1ce9b906-5e5f-4082-9da1-b07498acdbf4"
      },
      "execution_count": 17,
      "outputs": [
        {
          "output_type": "stream",
          "name": "stdout",
          "text": [
            "Mciel\n",
            "ael enihca\n"
          ]
        }
      ]
    },
    {
      "cell_type": "code",
      "source": [
        "a = 'Machine learning'\n",
        "step_1 = a[0:10:1]\n",
        "no_step = a[0:10]\n",
        "print(step_1, 'vs.', no_step)"
      ],
      "metadata": {
        "colab": {
          "base_uri": "https://localhost:8080/"
        },
        "id": "KaZ1RYadK2W2",
        "outputId": "5f9cec7e-b6f8-49cd-adb6-5b5f2690e67f"
      },
      "execution_count": 18,
      "outputs": [
        {
          "output_type": "stream",
          "name": "stdout",
          "text": [
            "Machine le vs. Machine le\n"
          ]
        }
      ]
    },
    {
      "cell_type": "code",
      "source": [
        "a = 'Machine learning'\n",
        "start_0 = a[0:10]\n",
        "no_start_positive_step = a[:10]\n",
        "print(start_0, 'vs.', no_start_positive_step)\n",
        "\n",
        "start_last = a[15:10:-1]\n",
        "no_start_negative_step = a[:10:-1]\n",
        "print(start_last, 'vs.', no_start_negative_step)"
      ],
      "metadata": {
        "colab": {
          "base_uri": "https://localhost:8080/"
        },
        "id": "zRKoxZUmLP8A",
        "outputId": "a83f4c6a-183d-4a17-9584-5a3b5ee3f480"
      },
      "execution_count": 19,
      "outputs": [
        {
          "output_type": "stream",
          "name": "stdout",
          "text": [
            "Machine le vs. Machine le\n",
            "gninr vs. gninr\n"
          ]
        }
      ]
    },
    {
      "cell_type": "code",
      "source": [
        "a = 'Machine learning'\n",
        "start_0 = a[0:10]\n",
        "no_start = a[:10]\n",
        "print(start_0, 'vs.', no_start)"
      ],
      "metadata": {
        "colab": {
          "base_uri": "https://localhost:8080/"
        },
        "id": "YvykS1j7M1kM",
        "outputId": "952397dd-232c-44a8-d241-e6b05e2d4bb6"
      },
      "execution_count": 20,
      "outputs": [
        {
          "output_type": "stream",
          "name": "stdout",
          "text": [
            "Machine le vs. Machine le\n"
          ]
        }
      ]
    },
    {
      "cell_type": "code",
      "source": [
        "a = 'Machine learning'\n",
        "stop_last_index = a[10:15]\n",
        "# a[10:16] can include thee 15th (last) index, but not recommended.\n",
        "\n",
        "# instead, leave the stop index blank\n",
        "no_stop = a[10:] # recommended\n",
        "print(stop_last_index, 'vs.', no_stop)"
      ],
      "metadata": {
        "id": "X4ju2jcCNT_2",
        "colab": {
          "base_uri": "https://localhost:8080/"
        },
        "outputId": "22a01085-ea80-4bec-88f6-c8b53da80c88"
      },
      "execution_count": 21,
      "outputs": [
        {
          "output_type": "stream",
          "name": "stdout",
          "text": [
            "arnin vs. arning\n"
          ]
        }
      ]
    },
    {
      "cell_type": "code",
      "source": [
        "a = 'Machine learning'\n",
        "all = a[:]\n",
        "print(all)"
      ],
      "metadata": {
        "colab": {
          "base_uri": "https://localhost:8080/"
        },
        "id": "LvRhYgONQfBf",
        "outputId": "94a2ede1-e693-4d62-c47c-e3deb47ad463"
      },
      "execution_count": 22,
      "outputs": [
        {
          "output_type": "stream",
          "name": "stdout",
          "text": [
            "Machine learning\n"
          ]
        }
      ]
    },
    {
      "cell_type": "code",
      "source": [
        "a = 'Machine learning'\n",
        "reversed = a[::-1]\n",
        "print(reversed)"
      ],
      "metadata": {
        "colab": {
          "base_uri": "https://localhost:8080/"
        },
        "id": "dGL-Ys5FQ1fw",
        "outputId": "078ccaae-eb3c-457a-b463-2030851148c8"
      },
      "execution_count": 23,
      "outputs": [
        {
          "output_type": "stream",
          "name": "stdout",
          "text": [
            "gninrael enihcaM\n"
          ]
        }
      ]
    },
    {
      "cell_type": "code",
      "source": [
        "a = 'Machine learning'\n",
        "with_index = a[7:15] # a[15] is not included\n",
        "with_reverse_index = a[-9:-1] #a[-1] is not included\n",
        "print(with_index, with_reverse_index)"
      ],
      "metadata": {
        "colab": {
          "base_uri": "https://localhost:8080/"
        },
        "id": "c4-kNkJQRGzT",
        "outputId": "63589ff7-798d-4cbc-f8a9-8314492dd094"
      },
      "execution_count": 24,
      "outputs": [
        {
          "output_type": "stream",
          "name": "stdout",
          "text": [
            " learnin  learnin\n"
          ]
        }
      ]
    },
    {
      "cell_type": "code",
      "source": [
        "a = 'Machine learning'\n",
        "with_index = a[7:] # a[15] is included\n",
        "with_reverse_index = a[-9:] #a[-1] is included\n",
        "print(with_index, with_reverse_index)"
      ],
      "metadata": {
        "colab": {
          "base_uri": "https://localhost:8080/"
        },
        "id": "ZK_9EA0VRvcE",
        "outputId": "0597efa4-037e-44b7-e0e1-b7ee22b04e1a"
      },
      "execution_count": 25,
      "outputs": [
        {
          "output_type": "stream",
          "name": "stdout",
          "text": [
            " learning  learning\n"
          ]
        }
      ]
    },
    {
      "cell_type": "code",
      "source": [
        "a = 'Machine learning'\n",
        "mixed_index = a[8:-3] # same as a[8:13]\n",
        "print(mixed_index)"
      ],
      "metadata": {
        "colab": {
          "base_uri": "https://localhost:8080/"
        },
        "id": "QJTwnv_dR7-8",
        "outputId": "f8c5eab4-bfa7-4216-af6c-355f9c7e2a87"
      },
      "execution_count": 26,
      "outputs": [
        {
          "output_type": "stream",
          "name": "stdout",
          "text": [
            "learn\n"
          ]
        }
      ]
    },
    {
      "cell_type": "code",
      "source": [
        "a = '**Machine learning is fun ... ... We will have a long journey.*'\n",
        "mixed_index = a[2:-1]\n",
        "print(mixed_index)"
      ],
      "metadata": {
        "id": "NTHJIiCWSTWP",
        "colab": {
          "base_uri": "https://localhost:8080/"
        },
        "outputId": "e8f8a630-0ab3-4c2d-ba59-dde078961411"
      },
      "execution_count": 27,
      "outputs": [
        {
          "output_type": "stream",
          "name": "stdout",
          "text": [
            "Machine learning is fun ... ... We will have a long journey.\n"
          ]
        }
      ]
    },
    {
      "cell_type": "code",
      "source": [
        "subject = \"Machine learning\"\n",
        "#subject[0] = \"D\" # This line gives you an error."
      ],
      "metadata": {
        "id": "jqinhSYErXJl"
      },
      "execution_count": 28,
      "outputs": []
    },
    {
      "cell_type": "code",
      "source": [
        "subject = \"Machine learning\"\n",
        "print(subject, id(subject))\n",
        "subject = \"Dachine learning\"\n",
        "print(subject, id(subject))"
      ],
      "metadata": {
        "colab": {
          "base_uri": "https://localhost:8080/"
        },
        "id": "0S6sMmFSsJyo",
        "outputId": "6286d889-b856-41be-998b-6be94628d77c"
      },
      "execution_count": 29,
      "outputs": [
        {
          "output_type": "stream",
          "name": "stdout",
          "text": [
            "Machine learning 138090588167488\n",
            "Dachine learning 138090588167248\n"
          ]
        }
      ]
    },
    {
      "cell_type": "code",
      "source": [
        "num = 1\n",
        "print(num, id(num))\n",
        "num = 2\n",
        "print(num, id(num))\n",
        "num = 3.0\n",
        "print(num, id(num))\n",
        "num = 4.0\n",
        "print(num, id(num))"
      ],
      "metadata": {
        "colab": {
          "base_uri": "https://localhost:8080/"
        },
        "id": "7xOHicCatqdR",
        "outputId": "f090e8b3-88a4-4c67-9350-1357493d720e"
      },
      "execution_count": 30,
      "outputs": [
        {
          "output_type": "stream",
          "name": "stdout",
          "text": [
            "1 138091067785456\n",
            "2 138091067785488\n",
            "3.0 138090588030896\n",
            "4.0 138090588029456\n"
          ]
        }
      ]
    },
    {
      "cell_type": "code",
      "source": [
        "subject = \"Machine learning \"\n",
        "verb = \"is \"\n",
        "feel = \"fun \"\n",
        "sentence = subject + verb + feel\n",
        "print(sentence)"
      ],
      "metadata": {
        "colab": {
          "base_uri": "https://localhost:8080/"
        },
        "id": "3gwmvniMuYWj",
        "outputId": "ee78ad90-32e5-4a62-fd05-1574db96c847"
      },
      "execution_count": 31,
      "outputs": [
        {
          "output_type": "stream",
          "name": "stdout",
          "text": [
            "Machine learning is fun \n"
          ]
        }
      ]
    },
    {
      "cell_type": "code",
      "source": [
        "sentences = sentence * 3\n",
        "print(sentences)"
      ],
      "metadata": {
        "colab": {
          "base_uri": "https://localhost:8080/"
        },
        "id": "jIzLqvwtvIXC",
        "outputId": "ba0a1eb8-45db-4196-90bf-7234a9308884"
      },
      "execution_count": 32,
      "outputs": [
        {
          "output_type": "stream",
          "name": "stdout",
          "text": [
            "Machine learning is fun Machine learning is fun Machine learning is fun \n"
          ]
        }
      ]
    },
    {
      "cell_type": "code",
      "source": [
        "# Quiz) What is the difference between the two results below?\n",
        "a = 2\n",
        "b = 3\n",
        "c = a + b\n",
        "print(c)\n",
        "\n",
        "a = '2'\n",
        "b = '3'\n",
        "c = a + b\n",
        "print(c)"
      ],
      "metadata": {
        "colab": {
          "base_uri": "https://localhost:8080/"
        },
        "id": "U3M_DhqQvQ6G",
        "outputId": "0ec48286-99d9-41c4-8982-aaa5306880e4"
      },
      "execution_count": 33,
      "outputs": [
        {
          "output_type": "stream",
          "name": "stdout",
          "text": [
            "5\n",
            "23\n"
          ]
        }
      ]
    }
  ]
}